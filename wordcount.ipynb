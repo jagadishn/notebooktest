{
 "cells": [
  {
   "cell_type": "code",
   "execution_count": null,
   "metadata": {},
   "outputs": [],
   "source": [
    "import sys\n",
    "\n",
    "from pyspark import SparkContext, SparkConf\n",
    "\n",
    "inputFile = \"s3://jnallapa-emr-test/text-files/pg345.txt\"\n",
    "lines = sc.textFile(inputFile)\n",
    "def lower_clean_str(x):\n",
    "  punc='!\"#$%&\\'()*+,-./:;<=>?@[\\\\]^_`{|}~'\n",
    "  lowercased_str = x.lower()\n",
    "  for ch in punc:\n",
    "    lowercased_str = lowercased_str.replace(ch, '')\n",
    "  return lowercased_str\n",
    "import string\n",
    "lines_nonempty = lines.filter( lambda x: len(x) > 0 )\n",
    "counts = lines_nonempty.flatMap(lambda x: x.lower().split(' ')) \\\n",
    "              .map(lambda x: lower_clean_str(x)) \\\n",
    "              .filter(lambda x:len(x) > 0) \\\n",
    "              .map(lambda x: (x, 1)) \\\n",
    "              .reduceByKey(lambda a,b:a+b)\n",
    "output = counts.collect() \n",
    "\n",
    "\n",
    "sortedoutput = sorted(output, key=lambda x:x[1])\n",
    "for (word, count) in sortedoutput:\n",
    "    print( \"%s %i\" % (word, count))"
   ]
  },
  {
   "cell_type": "code",
   "execution_count": null,
   "metadata": {},
   "outputs": [],
   "source": []
  },
  {
   "cell_type": "code",
   "execution_count": null,
   "metadata": {},
   "outputs": [],
   "source": []
  }
 ],
 "metadata": {
  "kernelspec": {
   "display_name": "PySpark",
   "language": "",
   "name": "pysparkkernel"
  },
  "language_info": {
   "codemirror_mode": {
    "name": "python",
    "version": 2
   },
   "mimetype": "text/x-python",
   "name": "pyspark",
   "pygments_lexer": "python2"
  }
 },
 "nbformat": 4,
 "nbformat_minor": 4
}
